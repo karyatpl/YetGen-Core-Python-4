{
 "cells": [
  {
   "cell_type": "markdown",
   "id": "b2f83806",
   "metadata": {},
   "source": [
    "## VERİ YAPILARI\n",
    "\n",
    "### 1 - DEĞİŞKENLER\n",
    "- String (yazılar) → `str` → parantez içinde yazılır `\"yazı\"`\n",
    "- Integer (Tam sayılar): `int`\n",
    "- Float (Ondalık ifadeler): `float`\n",
    "- Boolean (True/False): `bool`\n"
   ]
  },
  {
   "cell_type": "code",
   "execution_count": null,
   "id": "da321a7d",
   "metadata": {},
   "outputs": [],
   "source": [
    "x = 7\n",
    "y = 8\n",
    "f = x + y\n",
    "print(f)\n"
   ]
  }
 ],
 "metadata": {},
 "nbformat": 4,
 "nbformat_minor": 5
}
